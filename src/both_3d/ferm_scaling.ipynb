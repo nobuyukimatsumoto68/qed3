{
 "cells": [
  {
   "cell_type": "code",
   "execution_count": 1,
   "id": "6fe8be24-11b5-401d-9414-d3eecbc3da11",
   "metadata": {},
   "outputs": [],
   "source": [
    "import os\n",
    "import numpy as np\n",
    "import math\n",
    "import matplotlib.pyplot as plt\n",
    "\n",
    "import scipy as sp\n",
    "import scipy.linalg\n",
    "import scipy.optimize\n",
    "# from scipy import optimize\n",
    "\n",
    "import glob\n",
    "\n",
    "# # import lsqfit\n",
    "# from lib import Jackknife\n",
    "# from lib import simple_mean\n",
    "# from lib import format_print\n",
    "\n",
    "# plt.rcParams['figure.dpi'] = 300"
   ]
  },
  {
   "cell_type": "code",
   "execution_count": 2,
   "id": "3bafb59a-034f-4aae-8316-b4038d16d29f",
   "metadata": {},
   "outputs": [],
   "source": [
    "class Jackknife:\n",
    "    def __init__( self, len_data, binsize ):\n",
    "        self.binsize = binsize\n",
    "        self.nbins = math.floor( len_data/self.binsize )\n",
    "        self.N = self.binsize * self.nbins\n",
    "        self.jack_avg = []\n",
    "        self.est = 0\n",
    "        self.var_est = 0\n",
    "\n",
    "    def set( self, func, list_of_data ):\n",
    "        for i in range( self.nbins ):\n",
    "            self.jack_avg.append( func( i, self.binsize, list_of_data ) )\n",
    "\n",
    "    def do_it( self ):\n",
    "        for i in range( 0, self.nbins ):\n",
    "            self.est += self.jack_avg[i]\n",
    "        self.est /= self.nbins\n",
    "\n",
    "        for i in range( 0, self.nbins ):\n",
    "            self.var_est += ( self.jack_avg[i] - self.est )**2\n",
    "        self.var_est /= self.nbins\n",
    "        self.var_est *= self.nbins -1\n",
    "\n",
    "    def mean( self ):\n",
    "        return self.est\n",
    "\n",
    "    def var( self ):\n",
    "        return self.var_est\n",
    "\n",
    "    def err( self ):\n",
    "        return np.sqrt(self.var_est)\n",
    "\n",
    "def simple_mean(i, binsize, np_data):\n",
    "    resmpld = np.delete(np_data, np.s_[i*binsize:(i+1)*binsize], axis=0)\n",
    "    return np.mean(resmpld, axis=0)\n",
    "\n",
    "def format_print(cen, err):\n",
    "    for i in range(-50, 50):\n",
    "        if 10**(-i+1)>=err>10**(-i):\n",
    "            tmp=err*10**(i+1)\n",
    "            return '{num:.{width}f}'.format(num=cen, width=i+1)+'('+str(round(tmp))+')'\n",
    "\n",
    "def format_print_w_exact(exact, cen, err):\n",
    "    for i in range(-50, 50):\n",
    "        if 10**(-i+1)>=err>10**(-i):\n",
    "            tmp=err*10**(i+1)\n",
    "            return '{num:.{width}f}'.format(num=cen, width=i+1)+'('+str(round(tmp))+')'+': '+'{num:.{width}f}'.format(num=(exact-cen)/err, width=i+1)+' sigma'"
   ]
  },
  {
   "cell_type": "code",
   "execution_count": null,
   "id": "ebcc9f2d-30cd-4202-ae23-e2f7894fbaa1",
   "metadata": {},
   "outputs": [],
   "source": []
  },
  {
   "cell_type": "code",
   "execution_count": 12,
   "id": "d0478454-b4ec-46d2-84d8-4590650787fa",
   "metadata": {},
   "outputs": [],
   "source": [
    "dat = np.loadtxt(\"prop_temporal_L16_Nt32.dat\")\n",
    "\n",
    "dat64 = np.loadtxt(\"prop_temporal_L16_Nt64.dat\")"
   ]
  },
  {
   "cell_type": "code",
   "execution_count": 13,
   "id": "16813de1-2641-43dc-867e-2a5308b941bb",
   "metadata": {},
   "outputs": [
    {
     "data": {
      "text/plain": [
       "array([[ 0.00000e+00,  1.59076e+02, -6.29486e-12],\n",
       "       [ 0.00000e+00, -1.41634e-10,  9.27602e-11],\n",
       "       [ 1.00000e+00, -1.64553e+01, -1.34787e-11],\n",
       "       [ 1.00000e+00, -1.36388e-10,  9.54609e-11],\n",
       "       [ 2.00000e+00, -1.07653e+01, -2.02009e-11],\n",
       "       [ 2.00000e+00, -1.29782e-10,  9.64989e-11],\n",
       "       [ 3.00000e+00, -7.31717e+00, -2.62830e-11],\n",
       "       [ 3.00000e+00, -1.21945e-10,  9.59074e-11],\n",
       "       [ 4.00000e+00, -5.16675e+00, -3.16193e-11],\n",
       "       [ 4.00000e+00, -1.13082e-10,  9.38349e-11],\n",
       "       [ 5.00000e+00, -3.78649e+00, -3.61704e-11],\n",
       "       [ 5.00000e+00, -1.03404e-10,  9.04929e-11],\n",
       "       [ 6.00000e+00, -2.87553e+00, -3.99504e-11],\n",
       "       [ 6.00000e+00, -9.31022e-11,  8.61173e-11],\n",
       "       [ 7.00000e+00, -2.25866e+00, -4.30113e-11],\n",
       "       [ 7.00000e+00, -8.23373e-11,  8.09426e-11],\n",
       "       [ 8.00000e+00, -1.83154e+00, -4.54289e-11],\n",
       "       [ 8.00000e+00, -7.12363e-11,  7.51825e-11],\n",
       "       [ 9.00000e+00, -1.53068e+00, -4.72904e-11],\n",
       "       [ 9.00000e+00, -5.98964e-11,  6.90201e-11],\n",
       "       [ 1.00000e+01, -1.31667e+00, -4.86848e-11],\n",
       "       [ 1.00000e+01, -4.83893e-11,  6.26023e-11],\n",
       "       [ 1.10000e+01, -1.16459e+00, -4.96957e-11],\n",
       "       [ 1.10000e+01, -3.67652e-11,  5.60392e-11],\n",
       "       [ 1.20000e+01, -1.05855e+00, -5.03962e-11],\n",
       "       [ 1.20000e+01, -2.50584e-11,  4.94062e-11],\n",
       "       [ 1.30000e+01, -9.88457e-01, -5.08464e-11],\n",
       "       [ 1.30000e+01, -1.32907e-11,  4.27479e-11],\n",
       "       [ 1.40000e+01, -9.48130e-01, -5.10905e-11],\n",
       "       [ 1.40000e+01, -1.47655e-12,  3.60824e-11],\n",
       "       [ 1.50000e+01, -9.34253e-01, -5.11567e-11],\n",
       "       [ 1.50000e+01,  1.03729e-11,  2.94067e-11],\n",
       "       [ 1.60000e+01, -9.45837e-01, -5.10563e-11],\n",
       "       [ 1.60000e+01,  2.22458e-11,  2.27009e-11],\n",
       "       [ 1.70000e+01, -9.84105e-01, -5.07837e-11],\n",
       "       [ 1.70000e+01,  3.41247e-11,  1.59336e-11],\n",
       "       [ 1.80000e+01, -1.05277e+00, -5.03169e-11],\n",
       "       [ 1.80000e+01,  4.59822e-11,  9.06572e-12],\n",
       "       [ 1.90000e+01, -1.15883e+00, -4.96176e-11],\n",
       "       [ 1.90000e+01,  5.77763e-11,  2.05573e-12],\n",
       "       [ 2.00000e+01, -1.31406e+00, -4.86327e-11],\n",
       "       [ 2.00000e+01,  6.94448e-11, -5.13601e-12],\n",
       "       [ 2.10000e+01, -1.53789e+00, -4.72958e-11],\n",
       "       [ 2.10000e+01,  8.09014e-11, -1.25420e-11],\n",
       "       [ 2.20000e+01, -1.86255e+00, -4.55301e-11],\n",
       "       [ 2.20000e+01,  9.20307e-11, -2.01819e-11],\n",
       "       [ 2.30000e+01, -2.34261e+00, -4.32526e-11],\n",
       "       [ 2.30000e+01,  1.02685e-10, -2.80563e-11],\n",
       "       [ 2.40000e+01, -3.07300e+00, -4.03801e-11],\n",
       "       [ 2.40000e+01,  1.12684e-10, -3.61402e-11],\n",
       "       [ 2.50000e+01, -4.22365e+00, -3.68375e-11],\n",
       "       [ 2.50000e+01,  1.21814e-10, -4.43756e-11],\n",
       "       [ 2.60000e+01, -6.10730e+00, -3.25675e-11],\n",
       "       [ 2.60000e+01,  1.29834e-10, -5.26651e-11],\n",
       "       [ 2.70000e+01, -9.31474e+00, -2.75431e-11],\n",
       "       [ 2.70000e+01,  1.36491e-10, -6.08675e-11],\n",
       "       [ 2.80000e+01, -1.49885e+01, -2.17804e-11],\n",
       "       [ 2.80000e+01,  1.41530e-10, -6.87954e-11],\n",
       "       [ 2.90000e+01, -2.53845e+01, -1.53502e-11],\n",
       "       [ 2.90000e+01,  1.44721e-10, -7.62193e-11],\n",
       "       [ 3.00000e+01, -4.50384e+01, -8.38662e-12],\n",
       "       [ 3.00000e+01,  1.45878e-10, -8.28763e-11],\n",
       "       [ 3.10000e+01, -8.32122e+01, -1.08774e-12],\n",
       "       [ 3.10000e+01,  1.44878e-10, -8.84852e-11]])"
      ]
     },
     "execution_count": 13,
     "metadata": {},
     "output_type": "execute_result"
    }
   ],
   "source": [
    "dat"
   ]
  },
  {
   "cell_type": "code",
   "execution_count": null,
   "id": "77c9c8f2-f585-4174-8514-82f6404ef1eb",
   "metadata": {},
   "outputs": [],
   "source": []
  },
  {
   "cell_type": "code",
   "execution_count": 19,
   "id": "650f3009-b11c-4895-a783-e037b6f9e933",
   "metadata": {},
   "outputs": [],
   "source": [
    "def G(t, nmax=100):\n",
    "    res = 0.0\n",
    "    for n in range(nmax):\n",
    "        res += (n+1.0) * sp.special.k0( (n+1.0)*t )\n",
    "    return res"
   ]
  },
  {
   "cell_type": "code",
   "execution_count": null,
   "id": "23c38487-bb24-4ecb-b681-31113b6ef2d4",
   "metadata": {},
   "outputs": [],
   "source": []
  },
  {
   "cell_type": "code",
   "execution_count": null,
   "id": "397865b3-033a-4449-97c5-860f01145a16",
   "metadata": {},
   "outputs": [],
   "source": []
  },
  {
   "cell_type": "code",
   "execution_count": 24,
   "id": "e2c1ea9c-7871-4e39-bee8-da38545724d4",
   "metadata": {},
   "outputs": [],
   "source": [
    "analy = np.array([ [t, G(t)] for t in np.linspace(0.001, 2.0, 100) ])"
   ]
  },
  {
   "cell_type": "code",
   "execution_count": null,
   "id": "ba9baf3c-03a6-403e-86a3-1a388b0d3ed7",
   "metadata": {},
   "outputs": [],
   "source": []
  },
  {
   "cell_type": "code",
   "execution_count": null,
   "id": "cea56ca4-62b8-4587-b0f1-c8628f33e077",
   "metadata": {},
   "outputs": [],
   "source": []
  },
  {
   "cell_type": "code",
   "execution_count": null,
   "id": "ff6de1d6-aeed-4b39-8694-05445ab8918b",
   "metadata": {},
   "outputs": [],
   "source": []
  },
  {
   "cell_type": "code",
   "execution_count": 30,
   "id": "f5aa0657-244d-479e-a848-60fed296a407",
   "metadata": {},
   "outputs": [
    {
     "data": {
      "text/plain": [
       "(0.0, 2.0)"
      ]
     },
     "execution_count": 30,
     "metadata": {},
     "output_type": "execute_result"
    },
    {
     "data": {
      "image/png": "[encoded data removed]",
      "text/plain": [
       "<Figure size 640x480 with 1 Axes>"
      ]
     },
     "metadata": {},
     "output_type": "display_data"
    }
   ],
   "source": [
    "plt.plot( 0.05*dat.T[0][::2][1:], -dat.T[1][::2][1:] )\n",
    "plt.plot( 0.05*dat64.T[0][::2][1:], -dat64.T[1][::2][1:] )\n",
    "\n",
    "plt.plot( analy.T[0], 0.3*analy.T[1] )\n",
    "\n",
    "plt.yscale( \"log\" )\n",
    "\n",
    "plt.xlim(0,2)"
   ]
  },
  {
   "cell_type": "code",
   "execution_count": null,
   "id": "07ba56c7-ff1a-47ba-be6a-b0c27471d58d",
   "metadata": {},
   "outputs": [],
   "source": []
  },
  {
   "cell_type": "code",
   "execution_count": null,
   "id": "533de504-eaad-4722-9ae4-adc0643f6934",
   "metadata": {},
   "outputs": [],
   "source": []
  },
  {
   "cell_type": "code",
   "execution_count": 3,
   "id": "eb51289f-c41e-46cc-8178-8037a9295051",
   "metadata": {},
   "outputs": [],
   "source": [
    "res_list=[]\n",
    "\n",
    "binsize=10"
   ]
  },
  {
   "cell_type": "code",
   "execution_count": null,
   "id": "44156c95-9b1c-428f-9ff7-51b96aeb2bea",
   "metadata": {},
   "outputs": [],
   "source": []
  },
  {
   "cell_type": "code",
   "execution_count": 4,
   "id": "9efd828f-5522-43c3-9456-0a8aa7284fc5",
   "metadata": {},
   "outputs": [],
   "source": [
    "path=\"./beta50.000000at0.036934nt64L2ratio0.500000/\"\n",
    "files_ = sorted(glob.glob(path+\"plaq_ss_t_*.dat\"), key=len)\n",
    "files = np.array(files_)\n",
    "\n",
    "data_=[]\n",
    "for file in files:\n",
    "    data_.append( np.loadtxt( file ) )\n",
    "data = np.array( data_ )\n",
    "\n",
    "Nt=data.shape[1]\n",
    "\n",
    "jk = Jackknife( data.shape[0], binsize )\n",
    "jk.set( simple_mean, data )\n",
    "jk.do_it()\n",
    "\n",
    "res_list.append( [path, jk.mean(), jk.err()] )"
   ]
  },
  {
   "cell_type": "code",
   "execution_count": null,
   "id": "1d1341d4-8bc8-499b-90b6-3726ec44f3b1",
   "metadata": {},
   "outputs": [],
   "source": []
  },
  {
   "cell_type": "code",
   "execution_count": 5,
   "id": "729e704e-4d85-446b-90a8-b8e88adcd416",
   "metadata": {},
   "outputs": [],
   "source": [
    "path=\"./beta50.000000at0.073868nt64L2ratio1.000000/\"\n",
    "files_ = sorted(glob.glob(path+\"plaq_ss_t_*.dat\"), key=len)\n",
    "files = np.array(files_)\n",
    "\n",
    "data_=[]\n",
    "for file in files:\n",
    "    data_.append( np.loadtxt( file ) )\n",
    "data = np.array( data_ )\n",
    "\n",
    "Nt=data.shape[1]\n",
    "\n",
    "jk = Jackknife( data.shape[0], binsize )\n",
    "jk.set( simple_mean, data )\n",
    "jk.do_it()\n",
    "\n",
    "res_list.append( [path, jk.mean(), jk.err()] )"
   ]
  },
  {
   "cell_type": "code",
   "execution_count": null,
   "id": "afed67a8-db72-4103-a8fe-53bae358417f",
   "metadata": {},
   "outputs": [],
   "source": []
  },
  {
   "cell_type": "code",
   "execution_count": 6,
   "id": "842d4555-cd8e-4aa0-88ae-949a85f5ccaa",
   "metadata": {},
   "outputs": [],
   "source": [
    "path=\"./beta50.000000at0.069197nt64L1ratio0.500000/\"\n",
    "files_ = sorted(glob.glob(path+\"plaq_ss_t_*.dat\"), key=len)\n",
    "files = np.array(files_)\n",
    "\n",
    "data_=[]\n",
    "for file in files:\n",
    "    data_.append( np.loadtxt( file ) )\n",
    "data = np.array( data_ )\n",
    "\n",
    "Nt=data.shape[1]\n",
    "\n",
    "jk = Jackknife( data.shape[0], binsize )\n",
    "jk.set( simple_mean, data )\n",
    "jk.do_it()\n",
    "\n",
    "res_list.append( [path, jk.mean(), jk.err()] )"
   ]
  },
  {
   "cell_type": "code",
   "execution_count": null,
   "id": "749fed41-1fd1-4e37-aeab-f5acbfed9215",
   "metadata": {},
   "outputs": [],
   "source": []
  },
  {
   "cell_type": "code",
   "execution_count": 7,
   "id": "dc881056-35f5-4a53-a5f8-b148b7a9d5eb",
   "metadata": {},
   "outputs": [],
   "source": [
    "path=\"./beta50.000000at0.138394nt64L1ratio1.000000/\"\n",
    "files_ = sorted(glob.glob(path+\"plaq_ss_t_*.dat\"), key=len)\n",
    "files = np.array(files_)\n",
    "\n",
    "data_=[]\n",
    "for file in files:\n",
    "    data_.append( np.loadtxt( file ) )\n",
    "data = np.array( data_ )\n",
    "\n",
    "Nt=data.shape[1]\n",
    "\n",
    "jk = Jackknife( data.shape[0], binsize )\n",
    "jk.set( simple_mean, data )\n",
    "jk.do_it()\n",
    "\n",
    "res_list.append( [path, jk.mean(), jk.err()] )"
   ]
  },
  {
   "cell_type": "code",
   "execution_count": null,
   "id": "484e2b64-3a88-4893-a779-7b061f756fa6",
   "metadata": {},
   "outputs": [],
   "source": []
  },
  {
   "cell_type": "code",
   "execution_count": null,
   "id": "3026f5ea-a852-4d67-8ee2-3a23605997ad",
   "metadata": {},
   "outputs": [],
   "source": []
  },
  {
   "cell_type": "code",
   "execution_count": 8,
   "id": "88309f70-6fa9-48c8-8ff1-bc3ae870af2d",
   "metadata": {},
   "outputs": [
    {
     "data": {
      "text/plain": [
       "[['./beta50.000000at0.036934nt64L2ratio0.500000/',\n",
       "  array([ 4.86527336e-01,  3.46953654e-01,  2.60008476e-01,  1.93570978e-01,\n",
       "          1.49041934e-01,  1.07093731e-01,  8.26827056e-02,  6.87821469e-02,\n",
       "          4.62067287e-02,  4.08310369e-02,  2.89320817e-02,  2.84010982e-02,\n",
       "          1.39596658e-02,  2.01908821e-02,  1.24615319e-02,  9.70361267e-03,\n",
       "          8.57758902e-03,  9.16040460e-03,  7.78334713e-03,  4.65622509e-04,\n",
       "          1.05663768e-02,  1.61337801e-03,  5.68004834e-03,  2.67886247e-04,\n",
       "          7.58272362e-03, -4.13095854e-04,  2.54980761e-03,  4.50907510e-03,\n",
       "          1.57507545e-04,  3.29467560e-03,  2.23929082e-04,  6.22744262e-03,\n",
       "         -3.29076723e-03,  6.22744262e-03,  2.23929082e-04,  3.29467560e-03,\n",
       "          1.57507545e-04,  4.50907510e-03,  2.54980761e-03, -4.13095854e-04,\n",
       "          7.58272362e-03,  2.67886247e-04,  5.68004834e-03,  1.61337801e-03,\n",
       "          1.05663768e-02,  4.65622509e-04,  7.78334713e-03,  9.16040460e-03,\n",
       "          8.57758902e-03,  9.70361267e-03,  1.24615319e-02,  2.01908821e-02,\n",
       "          1.39596658e-02,  2.84010982e-02,  2.89320817e-02,  4.08310369e-02,\n",
       "          4.62067287e-02,  6.87821469e-02,  8.26827056e-02,  1.07093731e-01,\n",
       "          1.49041934e-01,  1.93570978e-01,  2.60008476e-01,  3.46953654e-01]),\n",
       "  array([2.15763807e-04, 1.33206198e-04, 1.78765808e-04, 1.52316736e-04,\n",
       "         1.37886044e-04, 1.44295778e-04, 1.01835222e-04, 1.37254401e-04,\n",
       "         1.07618015e-04, 1.09574354e-04, 1.25706701e-04, 9.61201022e-05,\n",
       "         1.30166693e-04, 1.09525427e-04, 1.12536514e-04, 1.40217783e-04,\n",
       "         9.57647378e-05, 1.50538135e-04, 1.02390582e-04, 1.36766010e-04,\n",
       "         1.25282605e-04, 1.01468842e-04, 1.40015563e-04, 9.52551008e-05,\n",
       "         1.16075766e-04, 1.18855007e-04, 9.96313847e-05, 1.24550863e-04,\n",
       "         1.10105590e-04, 1.24166706e-04, 1.27435123e-04, 1.22920534e-04,\n",
       "         1.51816590e-04, 1.22920534e-04, 1.27435123e-04, 1.24166706e-04,\n",
       "         1.10105590e-04, 1.24550863e-04, 9.96313847e-05, 1.18855007e-04,\n",
       "         1.16075766e-04, 9.52551008e-05, 1.40015563e-04, 1.01468842e-04,\n",
       "         1.25282605e-04, 1.36766010e-04, 1.02390582e-04, 1.50538135e-04,\n",
       "         9.57647378e-05, 1.40217783e-04, 1.12536514e-04, 1.09525427e-04,\n",
       "         1.30166693e-04, 9.61201022e-05, 1.25706701e-04, 1.09574354e-04,\n",
       "         1.07618015e-04, 1.37254401e-04, 1.01835222e-04, 1.44295778e-04,\n",
       "         1.37886044e-04, 1.52316736e-04, 1.78765808e-04, 1.33206198e-04])],\n",
       " ['./beta50.000000at0.073868nt64L2ratio1.000000/',\n",
       "  array([ 4.66188759e-01,  2.53579693e-01,  1.42194521e-01,  8.06436978e-02,\n",
       "          4.62367003e-02,  3.02726954e-02,  1.92199735e-02,  1.54746755e-02,\n",
       "          1.20643522e-02,  6.58478238e-03,  4.95038141e-03,  6.15794790e-04,\n",
       "         -3.43943511e-04,  6.56913846e-04,  5.99324616e-04,  4.18696111e-03,\n",
       "          3.06365039e-03,  2.52978586e-03,  2.02615562e-03, -2.14779732e-03,\n",
       "         -1.98051657e-03, -2.56652265e-03,  6.82334476e-04,  3.09983635e-03,\n",
       "          2.48506830e-03,  1.73009091e-03, -4.87551964e-05, -1.99680867e-03,\n",
       "         -1.73776972e-03, -1.72998878e-03,  2.15403544e-04,  2.02813731e-03,\n",
       "          1.75736593e-03,  2.02813731e-03,  2.15403544e-04, -1.72998878e-03,\n",
       "         -1.73776972e-03, -1.99680867e-03, -4.87551964e-05,  1.73009091e-03,\n",
       "          2.48506830e-03,  3.09983635e-03,  6.82334476e-04, -2.56652265e-03,\n",
       "         -1.98051657e-03, -2.14779732e-03,  2.02615562e-03,  2.52978586e-03,\n",
       "          3.06365039e-03,  4.18696111e-03,  5.99324616e-04,  6.56913846e-04,\n",
       "         -3.43943511e-04,  6.15794790e-04,  4.95038141e-03,  6.58478238e-03,\n",
       "          1.20643522e-02,  1.54746755e-02,  1.92199735e-02,  3.02726954e-02,\n",
       "          4.62367003e-02,  8.06436978e-02,  1.42194521e-01,  2.53579693e-01]),\n",
       "  array([2.64163441e-04, 8.82827163e-05, 7.65867396e-05, 1.04089264e-04,\n",
       "         1.27671012e-04, 6.92583698e-05, 8.57290743e-05, 9.92067052e-05,\n",
       "         1.23584459e-04, 7.09229464e-05, 7.67890956e-05, 1.18026459e-04,\n",
       "         1.10012222e-04, 7.95254862e-05, 7.09708521e-05, 1.25569457e-04,\n",
       "         7.89182796e-05, 9.67867113e-05, 9.99722025e-05, 1.06064734e-04,\n",
       "         1.12461036e-04, 1.56697589e-04, 7.93232470e-05, 1.24362594e-04,\n",
       "         1.05682486e-04, 7.81138591e-05, 7.51161080e-05, 8.87814667e-05,\n",
       "         9.80446130e-05, 9.60288761e-05, 7.29641418e-05, 1.03073470e-04,\n",
       "         1.26016301e-04, 1.03073470e-04, 7.29641418e-05, 9.60288761e-05,\n",
       "         9.80446130e-05, 8.87814667e-05, 7.51161080e-05, 7.81138591e-05,\n",
       "         1.05682486e-04, 1.24362594e-04, 7.93232470e-05, 1.56697589e-04,\n",
       "         1.12461036e-04, 1.06064734e-04, 9.99722025e-05, 9.67867113e-05,\n",
       "         7.89182796e-05, 1.25569457e-04, 7.09708521e-05, 7.95254862e-05,\n",
       "         1.10012222e-04, 1.18026459e-04, 7.67890956e-05, 7.09229464e-05,\n",
       "         1.23584459e-04, 9.92067052e-05, 8.57290743e-05, 6.92583698e-05,\n",
       "         1.27671012e-04, 1.04089264e-04, 7.65867396e-05, 8.82827163e-05])],\n",
       " ['./beta50.000000at0.069197nt64L1ratio0.500000/',\n",
       "  array([0.05510522, 0.04190603, 0.03199602, 0.02456122, 0.01899274,\n",
       "         0.01479638, 0.01158633, 0.00907425, 0.00712176, 0.00562491,\n",
       "         0.00445737, 0.00357556, 0.00288587, 0.00234598, 0.00190823,\n",
       "         0.00153601, 0.00122767, 0.00103205, 0.0009066 , 0.00079693,\n",
       "         0.00068079, 0.00050462, 0.00036886, 0.00029895, 0.00028806,\n",
       "         0.00026237, 0.00022523, 0.0001553 , 0.00011102, 0.0001286 ,\n",
       "         0.00014361, 0.00017852, 0.00017762, 0.00017852, 0.00014361,\n",
       "         0.0001286 , 0.00011102, 0.0001553 , 0.00022523, 0.00026237,\n",
       "         0.00028806, 0.00029895, 0.00036886, 0.00050462, 0.00068079,\n",
       "         0.00079693, 0.0009066 , 0.00103205, 0.00122767, 0.00153601,\n",
       "         0.00190823, 0.00234598, 0.00288587, 0.00357556, 0.00445737,\n",
       "         0.00562491, 0.00712176, 0.00907425, 0.01158633, 0.01479638,\n",
       "         0.01899274, 0.02456122, 0.03199602, 0.04190603]),\n",
       "  array([1.97770606e-05, 1.85687002e-05, 1.74533437e-05, 1.66269737e-05,\n",
       "         1.57868459e-05, 1.50840735e-05, 1.49925002e-05, 1.42325486e-05,\n",
       "         1.38542212e-05, 1.37169836e-05, 1.40656221e-05, 1.35879264e-05,\n",
       "         1.36607178e-05, 1.37326634e-05, 1.37165754e-05, 1.36925884e-05,\n",
       "         1.42163909e-05, 1.36630051e-05, 1.35188353e-05, 1.37741671e-05,\n",
       "         1.39109773e-05, 1.36957935e-05, 1.43067385e-05, 1.40023536e-05,\n",
       "         1.40344531e-05, 1.44561662e-05, 1.48747382e-05, 1.48757116e-05,\n",
       "         1.58619300e-05, 1.65153845e-05, 1.75218700e-05, 1.84607437e-05,\n",
       "         1.91541831e-05, 1.84607437e-05, 1.75218700e-05, 1.65153845e-05,\n",
       "         1.58619300e-05, 1.48757116e-05, 1.48747382e-05, 1.44561662e-05,\n",
       "         1.40344531e-05, 1.40023536e-05, 1.43067385e-05, 1.36957935e-05,\n",
       "         1.39109773e-05, 1.37741671e-05, 1.35188353e-05, 1.36630051e-05,\n",
       "         1.42163909e-05, 1.36925884e-05, 1.37165754e-05, 1.37326634e-05,\n",
       "         1.36607178e-05, 1.35879264e-05, 1.40656221e-05, 1.37169836e-05,\n",
       "         1.38542212e-05, 1.42325486e-05, 1.49925002e-05, 1.50840735e-05,\n",
       "         1.57868459e-05, 1.66269737e-05, 1.74533437e-05, 1.85687002e-05])],\n",
       " ['./beta50.000000at0.138394nt64L1ratio1.000000/',\n",
       "  array([ 5.36181111e-02,  3.14394892e-02,  1.88008219e-02,  1.14532941e-02,\n",
       "          7.12232171e-03,  4.52448059e-03,  2.93047870e-03,  1.94621510e-03,\n",
       "          1.29132285e-03,  9.07175447e-04,  6.43533347e-04,  4.83540511e-04,\n",
       "          3.77778695e-04,  2.86599713e-04,  2.34866028e-04,  1.71864188e-04,\n",
       "          1.10035730e-04,  4.54807333e-05,  9.33190083e-06, -1.31047299e-05,\n",
       "         -7.08994547e-06, -8.35638495e-06,  1.26044933e-05,  3.67796057e-05,\n",
       "          2.73750553e-05,  2.70277578e-05, -1.47852579e-05, -2.62281215e-05,\n",
       "         -4.24035674e-05, -5.56006745e-05, -4.61398060e-05, -5.51039903e-05,\n",
       "         -3.64115034e-05, -5.51039903e-05, -4.61398060e-05, -5.56006745e-05,\n",
       "         -4.24035674e-05, -2.62281215e-05, -1.47852579e-05,  2.70277578e-05,\n",
       "          2.73750553e-05,  3.67796057e-05,  1.26044933e-05, -8.35638495e-06,\n",
       "         -7.08994547e-06, -1.31047299e-05,  9.33190083e-06,  4.54807333e-05,\n",
       "          1.10035730e-04,  1.71864188e-04,  2.34866028e-04,  2.86599713e-04,\n",
       "          3.77778695e-04,  4.83540511e-04,  6.43533347e-04,  9.07175447e-04,\n",
       "          1.29132285e-03,  1.94621510e-03,  2.93047870e-03,  4.52448059e-03,\n",
       "          7.12232171e-03,  1.14532941e-02,  1.88008219e-02,  3.14394892e-02]),\n",
       "  array([1.37586406e-05, 1.25005946e-05, 1.12193585e-05, 1.04098645e-05,\n",
       "         1.01149235e-05, 9.79696656e-06, 9.78134546e-06, 9.77260151e-06,\n",
       "         9.63219730e-06, 9.78772974e-06, 9.67524085e-06, 9.60709659e-06,\n",
       "         9.51864192e-06, 9.65056570e-06, 9.68085329e-06, 9.68798307e-06,\n",
       "         9.52571934e-06, 9.53391196e-06, 9.66962230e-06, 9.46844828e-06,\n",
       "         9.42715773e-06, 9.49368640e-06, 9.54638202e-06, 9.46414562e-06,\n",
       "         9.56866230e-06, 9.60230814e-06, 9.62697585e-06, 9.94068962e-06,\n",
       "         1.01544278e-05, 1.04132017e-05, 1.10909088e-05, 1.24544030e-05,\n",
       "         1.36115307e-05, 1.24544030e-05, 1.10909088e-05, 1.04132017e-05,\n",
       "         1.01544278e-05, 9.94068962e-06, 9.62697585e-06, 9.60230814e-06,\n",
       "         9.56866230e-06, 9.46414562e-06, 9.54638202e-06, 9.49368640e-06,\n",
       "         9.42715773e-06, 9.46844828e-06, 9.66962230e-06, 9.53391196e-06,\n",
       "         9.52571934e-06, 9.68798307e-06, 9.68085329e-06, 9.65056570e-06,\n",
       "         9.51864192e-06, 9.60709659e-06, 9.67524085e-06, 9.78772974e-06,\n",
       "         9.63219730e-06, 9.77260151e-06, 9.78134546e-06, 9.79696656e-06,\n",
       "         1.01149235e-05, 1.04098645e-05, 1.12193585e-05, 1.25005946e-05])]]"
      ]
     },
     "execution_count": 8,
     "metadata": {},
     "output_type": "execute_result"
    }
   ],
   "source": [
    "res_list"
   ]
  },
  {
   "cell_type": "code",
   "execution_count": null,
   "id": "23c06dad-c132-4547-8b2b-62ccc75a6bca",
   "metadata": {},
   "outputs": [],
   "source": []
  },
  {
   "cell_type": "code",
   "execution_count": 9,
   "id": "754abf96-ac1f-4fa7-a54a-fba3768036e2",
   "metadata": {},
   "outputs": [],
   "source": [
    "def f(t, nmax):\n",
    "    res = 0.0\n",
    "    for n in range(1,nmax):\n",
    "        res += np.sqrt( n*(n+1.0) ) * (2.0*n+1.0) * np.exp( -np.sqrt( n*(n+1.0) )*t )\n",
    "    return res/(8.0*np.pi)"
   ]
  },
  {
   "cell_type": "code",
   "execution_count": 15,
   "id": "43366bf9-cc7a-4757-998c-87d56d28cecd",
   "metadata": {},
   "outputs": [
    {
     "data": {
      "text/plain": [
       "0.02"
      ]
     },
     "execution_count": 15,
     "metadata": {},
     "output_type": "execute_result"
    }
   ],
   "source": [
    "1.0/50"
   ]
  },
  {
   "cell_type": "code",
   "execution_count": 10,
   "id": "a6bed317-68e5-46b9-8533-a7a57c6f20df",
   "metadata": {},
   "outputs": [
    {
     "data": {
      "text/plain": [
       "64"
      ]
     },
     "execution_count": 10,
     "metadata": {},
     "output_type": "execute_result"
    }
   ],
   "source": [
    "Nt"
   ]
  },
  {
   "cell_type": "code",
   "execution_count": 16,
   "id": "b7ebfbef-c8c8-4ba7-a431-884549ba1938",
   "metadata": {},
   "outputs": [
    {
     "data": {
      "image/png": "[encoded data removed]",
      "text/plain": [
       "<Figure size 640x480 with 1 Axes>"
      ]
     },
     "metadata": {},
     "output_type": "display_data"
    }
   ],
   "source": [
    "plt.yscale(\"log\")\n",
    "\n",
    "for res in res_list:\n",
    "    Nt = res[1].shape[0]\n",
    "\n",
    "    at = float(res[0].split(\"at\")[1].split(\"nt\")[0])\n",
    "    xx=np.arange(int(Nt/2)) * at\n",
    "    # xx=np.arange(Nt)\n",
    "    yy=res[1][:int(Nt/2)]\n",
    "    dy=res[2][:int(Nt/2)]\n",
    "\n",
    "    plt.errorbar( xx, yy, dy, capsize=5, label=res[0] )\n",
    "\n",
    "# xx=np.arange(Nt)\n",
    "# yy= 0.07*np.exp( -np.sqrt(2.0) * xx / 8.0 )\n",
    "# plt.plot( xx, yy )\n",
    "\n",
    "xx=np.linspace(0, 4.0, 200)\n",
    "# yy= 0.02*np.exp( -np.sqrt(2.0) * xx * 2.4 )\n",
    "yy= 0.02*f(xx, 10)\n",
    "plt.plot( xx, yy, ls=\"dashed\", label=\"analytic\" )\n",
    "\n",
    "plt.legend()\n",
    "plt.ylim( 1.0e-5, 1.0e0 )\n",
    "plt.xlabel(\"$t$\")\n",
    "plt.ylabel(\"$\\\\langle \\\\Phi(z=1,t=0) \\\\Phi(z=1,t) \\\\rangle$\")\n",
    "\n",
    "plt.savefig(\"gaugecorr.pdf\")"
   ]
  },
  {
   "cell_type": "code",
   "execution_count": 12,
   "id": "f99b48f6-300b-49d1-8c36-eb5c943c26aa",
   "metadata": {},
   "outputs": [
    {
     "data": {
      "text/plain": [
       "6.25"
      ]
     },
     "execution_count": 12,
     "metadata": {},
     "output_type": "execute_result"
    }
   ],
   "source": [
    "50.0/8.0"
   ]
  },
  {
   "cell_type": "code",
   "execution_count": null,
   "id": "b565f895-8420-4535-a18f-782e112f847d",
   "metadata": {},
   "outputs": [],
   "source": []
  }
 ],
 "metadata": {
  "kernelspec": {
   "display_name": "Python 3 (ipykernel)",
   "language": "python",
   "name": "python3"
  },
  "language_info": {
   "codemirror_mode": {
    "name": "ipython",
    "version": 3
   },
   "file_extension": ".py",
   "mimetype": "text/x-python",
   "name": "python",
   "nbconvert_exporter": "python",
   "pygments_lexer": "ipython3",
   "version": "3.12.2"
  }
 },
 "nbformat": 4,
 "nbformat_minor": 5
}
