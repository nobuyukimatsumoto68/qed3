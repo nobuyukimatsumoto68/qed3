{
 "cells": [
  {
   "cell_type": "code",
   "execution_count": 1,
   "id": "6fe8be24-11b5-401d-9414-d3eecbc3da11",
   "metadata": {},
   "outputs": [],
   "source": [
    "import os\n",
    "import numpy as np\n",
    "import math\n",
    "import matplotlib.pyplot as plt\n",
    "\n",
    "import scipy as sp\n",
    "import scipy.linalg\n",
    "import scipy.optimize\n",
    "# from scipy import optimize\n",
    "\n",
    "import glob\n",
    "\n",
    "# # import lsqfit\n",
    "# from lib import Jackknife\n",
    "# from lib import simple_mean\n",
    "# from lib import format_print\n",
    "\n",
    "# plt.rcParams['figure.dpi'] = 300"
   ]
  },
  {
   "cell_type": "code",
   "execution_count": 2,
   "id": "3bafb59a-034f-4aae-8316-b4038d16d29f",
   "metadata": {},
   "outputs": [],
   "source": [
    "class Jackknife:\n",
    "    def __init__( self, len_data, binsize ):\n",
    "        self.binsize = binsize\n",
    "        self.nbins = math.floor( len_data/self.binsize )\n",
    "        self.N = self.binsize * self.nbins\n",
    "        self.jack_avg = []\n",
    "        self.est = 0\n",
    "        self.var_est = 0\n",
    "\n",
    "    def set( self, func, list_of_data ):\n",
    "        for i in range( self.nbins ):\n",
    "            self.jack_avg.append( func( i, self.binsize, list_of_data ) )\n",
    "\n",
    "    def do_it( self ):\n",
    "        for i in range( 0, self.nbins ):\n",
    "            self.est += self.jack_avg[i]\n",
    "        self.est /= self.nbins\n",
    "\n",
    "        for i in range( 0, self.nbins ):\n",
    "            self.var_est += ( self.jack_avg[i] - self.est )**2\n",
    "        self.var_est /= self.nbins\n",
    "        self.var_est *= self.nbins -1\n",
    "\n",
    "    def mean( self ):\n",
    "        return self.est\n",
    "\n",
    "    def var( self ):\n",
    "        return self.var_est\n",
    "\n",
    "    def err( self ):\n",
    "        return np.sqrt(self.var_est)\n",
    "\n",
    "def simple_mean(i, binsize, np_data):\n",
    "    resmpld = np.delete(np_data, np.s_[i*binsize:(i+1)*binsize], axis=0)\n",
    "    return np.mean(resmpld, axis=0)\n",
    "\n",
    "def format_print(cen, err):\n",
    "    for i in range(-50, 50):\n",
    "        if 10**(-i+1)>=err>10**(-i):\n",
    "            tmp=err*10**(i+1)\n",
    "            return '{num:.{width}f}'.format(num=cen, width=i+1)+'('+str(round(tmp))+')'\n",
    "\n",
    "def format_print_w_exact(exact, cen, err):\n",
    "    for i in range(-50, 50):\n",
    "        if 10**(-i+1)>=err>10**(-i):\n",
    "            tmp=err*10**(i+1)\n",
    "            return '{num:.{width}f}'.format(num=cen, width=i+1)+'('+str(round(tmp))+')'+': '+'{num:.{width}f}'.format(num=(exact-cen)/err, width=i+1)+' sigma'"
   ]
  },
  {
   "cell_type": "code",
   "execution_count": null,
   "id": "ebcc9f2d-30cd-4202-ae23-e2f7894fbaa1",
   "metadata": {},
   "outputs": [],
   "source": []
  },
  {
   "cell_type": "code",
   "execution_count": 3,
   "id": "eb51289f-c41e-46cc-8178-8037a9295051",
   "metadata": {},
   "outputs": [],
   "source": [
    "res_list=[]\n",
    "\n",
    "binsize=10"
   ]
  },
  {
   "cell_type": "code",
   "execution_count": null,
   "id": "44156c95-9b1c-428f-9ff7-51b96aeb2bea",
   "metadata": {},
   "outputs": [],
   "source": []
  },
  {
   "cell_type": "code",
   "execution_count": 4,
   "id": "9efd828f-5522-43c3-9456-0a8aa7284fc5",
   "metadata": {},
   "outputs": [],
   "source": [
    "path=\"./beta50.000000at0.138394nt32L1_v2/\"\n",
    "files_ = sorted(glob.glob(path+\"plaq_ss_t_*.dat\"), key=len)\n",
    "files = np.array(files_)\n",
    "\n",
    "data_=[]\n",
    "for file in files:\n",
    "    data_.append( np.loadtxt( file ) )\n",
    "data = np.array( data_ )\n",
    "\n",
    "Nt=data.shape[1]\n",
    "\n",
    "jk = Jackknife( data.shape[0], binsize )\n",
    "jk.set( simple_mean, data )\n",
    "jk.do_it()\n",
    "\n",
    "res_list.append( [path, jk.mean(), jk.err()] )"
   ]
  },
  {
   "cell_type": "code",
   "execution_count": null,
   "id": "1d1341d4-8bc8-499b-90b6-3726ec44f3b1",
   "metadata": {},
   "outputs": [],
   "source": []
  },
  {
   "cell_type": "code",
   "execution_count": 5,
   "id": "729e704e-4d85-446b-90a8-b8e88adcd416",
   "metadata": {},
   "outputs": [],
   "source": [
    "path=\"./beta50.000000at0.069197nt32L1_v2/\"\n",
    "files_ = sorted(glob.glob(path+\"plaq_ss_t_*.dat\"), key=len)\n",
    "files = np.array(files_)\n",
    "\n",
    "data_=[]\n",
    "for file in files:\n",
    "    data_.append( np.loadtxt( file ) )\n",
    "data = np.array( data_ )\n",
    "\n",
    "Nt=data.shape[1]\n",
    "\n",
    "jk = Jackknife( data.shape[0], binsize )\n",
    "jk.set( simple_mean, data )\n",
    "jk.do_it()\n",
    "\n",
    "res_list.append( [path, jk.mean(), jk.err()] )"
   ]
  },
  {
   "cell_type": "code",
   "execution_count": null,
   "id": "afed67a8-db72-4103-a8fe-53bae358417f",
   "metadata": {},
   "outputs": [],
   "source": []
  },
  {
   "cell_type": "code",
   "execution_count": 6,
   "id": "842d4555-cd8e-4aa0-88ae-949a85f5ccaa",
   "metadata": {},
   "outputs": [],
   "source": [
    "path=\"./beta50.000000at0.036934nt32L2_v2/\"\n",
    "files_ = sorted(glob.glob(path+\"plaq_ss_t_*.dat\"), key=len)\n",
    "files = np.array(files_)\n",
    "\n",
    "data_=[]\n",
    "for file in files:\n",
    "    data_.append( np.loadtxt( file ) )\n",
    "data = np.array( data_ )\n",
    "\n",
    "Nt=data.shape[1]\n",
    "\n",
    "jk = Jackknife( data.shape[0], binsize )\n",
    "jk.set( simple_mean, data )\n",
    "jk.do_it()\n",
    "\n",
    "res_list.append( [path, jk.mean(), jk.err()] )"
   ]
  },
  {
   "cell_type": "code",
   "execution_count": null,
   "id": "749fed41-1fd1-4e37-aeab-f5acbfed9215",
   "metadata": {},
   "outputs": [],
   "source": []
  },
  {
   "cell_type": "code",
   "execution_count": null,
   "id": "dc881056-35f5-4a53-a5f8-b148b7a9d5eb",
   "metadata": {},
   "outputs": [],
   "source": []
  },
  {
   "cell_type": "code",
   "execution_count": null,
   "id": "484e2b64-3a88-4893-a779-7b061f756fa6",
   "metadata": {},
   "outputs": [],
   "source": []
  },
  {
   "cell_type": "code",
   "execution_count": null,
   "id": "3026f5ea-a852-4d67-8ee2-3a23605997ad",
   "metadata": {},
   "outputs": [],
   "source": []
  },
  {
   "cell_type": "code",
   "execution_count": 7,
   "id": "88309f70-6fa9-48c8-8ff1-bc3ae870af2d",
   "metadata": {},
   "outputs": [
    {
     "data": {
      "text/plain": [
       "[['./beta50.000000at0.138394nt32L1_v2/',\n",
       "  array([0.05378207, 0.03163215, 0.0189523 , 0.01149634, 0.00708858,\n",
       "         0.00448384, 0.00284665, 0.00177947, 0.00118273, 0.00081948,\n",
       "         0.00053707, 0.00034221, 0.00030449, 0.00026111, 0.00019233,\n",
       "         0.00019217, 0.00022491, 0.00019217, 0.00019233, 0.00026111,\n",
       "         0.00030449, 0.00034221, 0.00053707, 0.00081948, 0.00118273,\n",
       "         0.00177947, 0.00284665, 0.00448384, 0.00708858, 0.01149634,\n",
       "         0.0189523 , 0.03163215]),\n",
       "  array([5.21833502e-05, 4.74696688e-05, 4.24059908e-05, 3.93463202e-05,\n",
       "         3.80315951e-05, 3.66643497e-05, 3.50076707e-05, 3.55485093e-05,\n",
       "         3.59880843e-05, 3.66644322e-05, 3.60388806e-05, 3.70653828e-05,\n",
       "         3.84997536e-05, 3.98424565e-05, 4.31942074e-05, 4.88073469e-05,\n",
       "         5.25850352e-05, 4.88073469e-05, 4.31942074e-05, 3.98424565e-05,\n",
       "         3.84997536e-05, 3.70653828e-05, 3.60388806e-05, 3.66644322e-05,\n",
       "         3.59880843e-05, 3.55485093e-05, 3.50076707e-05, 3.66643497e-05,\n",
       "         3.80315951e-05, 3.93463202e-05, 4.24059908e-05, 4.74696688e-05])],\n",
       " ['./beta50.000000at0.069197nt32L1_v2/',\n",
       "  array([ 0.06046798,  0.0396448 ,  0.03025075,  0.02914686,  0.01559516,\n",
       "          0.01419492,  0.01666902,  0.00575328,  0.00754755,  0.00980632,\n",
       "          0.00033111,  0.00523781,  0.00746985, -0.00093351,  0.00507355,\n",
       "          0.00534131, -0.00236533,  0.00534131,  0.00507355, -0.00093351,\n",
       "          0.00746985,  0.00523781,  0.00033111,  0.00980632,  0.00754755,\n",
       "          0.00575328,  0.01666902,  0.01419492,  0.01559516,  0.02914686,\n",
       "          0.03025075,  0.0396448 ]),\n",
       "  array([1.24598357e-04, 7.35075561e-05, 7.44593569e-05, 7.91447583e-05,\n",
       "         9.16544067e-05, 5.72673947e-05, 1.05685591e-04, 6.90698291e-05,\n",
       "         5.32456859e-05, 6.72096295e-05, 1.09457097e-04, 5.65497901e-05,\n",
       "         8.91286117e-05, 8.13767850e-05, 7.38825556e-05, 7.43210280e-05,\n",
       "         1.29943951e-04, 7.43210280e-05, 7.38825556e-05, 8.13767850e-05,\n",
       "         8.91286117e-05, 5.65497901e-05, 1.09457097e-04, 6.72096295e-05,\n",
       "         5.32456859e-05, 6.90698291e-05, 1.05685591e-04, 5.72673947e-05,\n",
       "         9.16544067e-05, 7.91447583e-05, 7.44593569e-05, 7.35075561e-05])],\n",
       " ['./beta50.000000at0.036934nt32L2_v2/',\n",
       "  array([ 0.51829747,  0.32540108,  0.27170997,  0.19631162,  0.13656231,\n",
       "          0.1331303 ,  0.0640394 ,  0.07887251,  0.05726132,  0.0205054 ,\n",
       "          0.06666602, -0.00149233,  0.04558212,  0.01115736,  0.01913383,\n",
       "          0.03780664, -0.0080417 ,  0.03780664,  0.01913383,  0.01115736,\n",
       "          0.04558212, -0.00149233,  0.06666602,  0.0205054 ,  0.05726132,\n",
       "          0.07887251,  0.0640394 ,  0.1331303 ,  0.13656231,  0.19631162,\n",
       "          0.27170997,  0.32540108]),\n",
       "  array([0.00123342, 0.00095865, 0.00063857, 0.00058488, 0.00052926,\n",
       "         0.00050317, 0.0004924 , 0.0004788 , 0.00059996, 0.00082841,\n",
       "         0.0010086 , 0.00086314, 0.00075546, 0.00074705, 0.00059739,\n",
       "         0.00054673, 0.00074235, 0.00054673, 0.00059739, 0.00074705,\n",
       "         0.00075546, 0.00086314, 0.0010086 , 0.00082841, 0.00059996,\n",
       "         0.0004788 , 0.0004924 , 0.00050317, 0.00052926, 0.00058488,\n",
       "         0.00063857, 0.00095865])]]"
      ]
     },
     "execution_count": 7,
     "metadata": {},
     "output_type": "execute_result"
    }
   ],
   "source": [
    "res_list"
   ]
  },
  {
   "cell_type": "code",
   "execution_count": null,
   "id": "23c06dad-c132-4547-8b2b-62ccc75a6bca",
   "metadata": {},
   "outputs": [],
   "source": []
  },
  {
   "cell_type": "code",
   "execution_count": 14,
   "id": "754abf96-ac1f-4fa7-a54a-fba3768036e2",
   "metadata": {},
   "outputs": [],
   "source": [
    "def f(t, nmax):\n",
    "    res = 0.0\n",
    "    for n in range(1,nmax):\n",
    "        res += np.sqrt( n*(n+1.0) ) * (2.0*n+1.0) * np.exp( -np.sqrt( n*(n+1.0) )*t )\n",
    "    return res"
   ]
  },
  {
   "cell_type": "code",
   "execution_count": null,
   "id": "43366bf9-cc7a-4757-998c-87d56d28cecd",
   "metadata": {},
   "outputs": [],
   "source": []
  },
  {
   "cell_type": "code",
   "execution_count": 22,
   "id": "a6bed317-68e5-46b9-8533-a7a57c6f20df",
   "metadata": {},
   "outputs": [
    {
     "data": {
      "text/plain": [
       "32"
      ]
     },
     "execution_count": 22,
     "metadata": {},
     "output_type": "execute_result"
    }
   ],
   "source": [
    "Nt"
   ]
  },
  {
   "cell_type": "code",
   "execution_count": 26,
   "id": "b7ebfbef-c8c8-4ba7-a431-884549ba1938",
   "metadata": {},
   "outputs": [
    {
     "data": {
      "text/plain": [
       "(1e-05, 1.0)"
      ]
     },
     "execution_count": 26,
     "metadata": {},
     "output_type": "execute_result"
    },
    {
     "data": {
      "image/png": "[encoded data removed]",
      "text/plain": [
       "<Figure size 640x480 with 1 Axes>"
      ]
     },
     "metadata": {},
     "output_type": "display_data"
    }
   ],
   "source": [
    "plt.yscale(\"log\")\n",
    "\n",
    "for res in res_list:\n",
    "    Nt = res[1].shape[0]\n",
    "\n",
    "    at = float(res[0].split(\"at\")[1].split(\"nt\")[0])\n",
    "    xx=np.arange(int(Nt/2)) * at\n",
    "    # xx=np.arange(Nt)\n",
    "    yy=res[1][:int(Nt/2)]\n",
    "    dy=res[2][:int(Nt/2)]\n",
    "\n",
    "    plt.errorbar( xx, yy, dy, capsize=5, label=res[0] )\n",
    "\n",
    "# xx=np.arange(Nt)\n",
    "# yy= 0.07*np.exp( -np.sqrt(2.0) * xx / 8.0 )\n",
    "# plt.plot( xx, yy )\n",
    "\n",
    "xx=np.linspace(0,3.0,50)\n",
    "# yy= 0.02*np.exp( -np.sqrt(2.0) * xx * 2.4 )\n",
    "yy= 0.0006*f(xx, 10)\n",
    "plt.plot( xx, yy )\n",
    "\n",
    "\n",
    "\n",
    "plt.legend()\n",
    "plt.ylim( 1.0e-5, 1.0e0 )"
   ]
  },
  {
   "cell_type": "code",
   "execution_count": 9,
   "id": "f99b48f6-300b-49d1-8c36-eb5c943c26aa",
   "metadata": {},
   "outputs": [
    {
     "data": {
      "text/plain": [
       "6.25"
      ]
     },
     "execution_count": 9,
     "metadata": {},
     "output_type": "execute_result"
    }
   ],
   "source": [
    "50.0/8.0"
   ]
  },
  {
   "cell_type": "code",
   "execution_count": null,
   "id": "b565f895-8420-4535-a18f-782e112f847d",
   "metadata": {},
   "outputs": [],
   "source": []
  }
 ],
 "metadata": {
  "kernelspec": {
   "display_name": "Python 3 (ipykernel)",
   "language": "python",
   "name": "python3"
  },
  "language_info": {
   "codemirror_mode": {
    "name": "ipython",
    "version": 3
   },
   "file_extension": ".py",
   "mimetype": "text/x-python",
   "name": "python",
   "nbconvert_exporter": "python",
   "pygments_lexer": "ipython3",
   "version": "3.12.2"
  }
 },
 "nbformat": 4,
 "nbformat_minor": 5
}
