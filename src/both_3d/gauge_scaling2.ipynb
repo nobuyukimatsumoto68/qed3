{
 "cells": [
  {
   "cell_type": "code",
   "execution_count": 1,
   "id": "6fe8be24-11b5-401d-9414-d3eecbc3da11",
   "metadata": {},
   "outputs": [],
   "source": [
    "import os\n",
    "import numpy as np\n",
    "import math\n",
    "import matplotlib.pyplot as plt\n",
    "\n",
    "import scipy as sp\n",
    "import scipy.linalg\n",
    "import scipy.optimize\n",
    "# from scipy import optimize\n",
    "\n",
    "import glob\n",
    "\n",
    "# # import lsqfit\n",
    "# from lib import Jackknife\n",
    "# from lib import simple_mean\n",
    "# from lib import format_print\n",
    "\n",
    "# plt.rcParams['figure.dpi'] = 300"
   ]
  },
  {
   "cell_type": "code",
   "execution_count": 2,
   "id": "3bafb59a-034f-4aae-8316-b4038d16d29f",
   "metadata": {},
   "outputs": [],
   "source": [
    "class Jackknife:\n",
    "    def __init__( self, len_data, binsize ):\n",
    "        self.binsize = binsize\n",
    "        self.nbins = math.floor( len_data/self.binsize )\n",
    "        self.N = self.binsize * self.nbins\n",
    "        self.jack_avg = []\n",
    "        self.est = 0\n",
    "        self.var_est = 0\n",
    "\n",
    "    def set( self, func, list_of_data ):\n",
    "        for i in range( self.nbins ):\n",
    "            self.jack_avg.append( func( i, self.binsize, list_of_data ) )\n",
    "\n",
    "    def do_it( self ):\n",
    "        for i in range( 0, self.nbins ):\n",
    "            self.est += self.jack_avg[i]\n",
    "        self.est /= self.nbins\n",
    "\n",
    "        for i in range( 0, self.nbins ):\n",
    "            self.var_est += ( self.jack_avg[i] - self.est )**2\n",
    "        self.var_est /= self.nbins\n",
    "        self.var_est *= self.nbins -1\n",
    "\n",
    "    def mean( self ):\n",
    "        return self.est\n",
    "\n",
    "    def var( self ):\n",
    "        return self.var_est\n",
    "\n",
    "    def err( self ):\n",
    "        return np.sqrt(self.var_est)\n",
    "\n",
    "def simple_mean(i, binsize, np_data):\n",
    "    resmpld = np.delete(np_data, np.s_[i*binsize:(i+1)*binsize], axis=0)\n",
    "    return np.mean(resmpld, axis=0)\n",
    "\n",
    "def format_print(cen, err):\n",
    "    for i in range(-50, 50):\n",
    "        if 10**(-i+1)>=err>10**(-i):\n",
    "            tmp=err*10**(i+1)\n",
    "            return '{num:.{width}f}'.format(num=cen, width=i+1)+'('+str(round(tmp))+')'\n",
    "\n",
    "def format_print_w_exact(exact, cen, err):\n",
    "    for i in range(-50, 50):\n",
    "        if 10**(-i+1)>=err>10**(-i):\n",
    "            tmp=err*10**(i+1)\n",
    "            return '{num:.{width}f}'.format(num=cen, width=i+1)+'('+str(round(tmp))+')'+': '+'{num:.{width}f}'.format(num=(exact-cen)/err, width=i+1)+' sigma'"
   ]
  },
  {
   "cell_type": "code",
   "execution_count": null,
   "id": "ebcc9f2d-30cd-4202-ae23-e2f7894fbaa1",
   "metadata": {},
   "outputs": [],
   "source": []
  },
  {
   "cell_type": "code",
   "execution_count": 3,
   "id": "eb51289f-c41e-46cc-8178-8037a9295051",
   "metadata": {},
   "outputs": [],
   "source": [
    "res_list=[]\n",
    "\n",
    "binsize=10"
   ]
  },
  {
   "cell_type": "code",
   "execution_count": null,
   "id": "44156c95-9b1c-428f-9ff7-51b96aeb2bea",
   "metadata": {},
   "outputs": [],
   "source": []
  },
  {
   "cell_type": "code",
   "execution_count": 4,
   "id": "9efd828f-5522-43c3-9456-0a8aa7284fc5",
   "metadata": {},
   "outputs": [],
   "source": [
    "path=\"./beta50.000000at0.036934nt64L2ratio0.500000/\"\n",
    "files_ = sorted(glob.glob(path+\"plaq_ss_t_*.dat\"), key=len)\n",
    "files = np.array(files_)\n",
    "\n",
    "data_=[]\n",
    "for file in files:\n",
    "    data_.append( np.loadtxt( file ) )\n",
    "data = np.array( data_ )\n",
    "\n",
    "Nt=data.shape[1]\n",
    "\n",
    "jk = Jackknife( data.shape[0], binsize )\n",
    "jk.set( simple_mean, data )\n",
    "jk.do_it()\n",
    "\n",
    "res_list.append( [path, jk.mean(), jk.err()] )"
   ]
  },
  {
   "cell_type": "code",
   "execution_count": null,
   "id": "1d1341d4-8bc8-499b-90b6-3726ec44f3b1",
   "metadata": {},
   "outputs": [],
   "source": []
  },
  {
   "cell_type": "code",
   "execution_count": 5,
   "id": "729e704e-4d85-446b-90a8-b8e88adcd416",
   "metadata": {},
   "outputs": [],
   "source": [
    "path=\"./beta50.000000at0.073868nt64L2ratio1.000000/\"\n",
    "files_ = sorted(glob.glob(path+\"plaq_ss_t_*.dat\"), key=len)\n",
    "files = np.array(files_)\n",
    "\n",
    "data_=[]\n",
    "for file in files:\n",
    "    data_.append( np.loadtxt( file ) )\n",
    "data = np.array( data_ )\n",
    "\n",
    "Nt=data.shape[1]\n",
    "\n",
    "jk = Jackknife( data.shape[0], binsize )\n",
    "jk.set( simple_mean, data )\n",
    "jk.do_it()\n",
    "\n",
    "res_list.append( [path, jk.mean(), jk.err()] )"
   ]
  },
  {
   "cell_type": "code",
   "execution_count": null,
   "id": "afed67a8-db72-4103-a8fe-53bae358417f",
   "metadata": {},
   "outputs": [],
   "source": []
  },
  {
   "cell_type": "code",
   "execution_count": 6,
   "id": "842d4555-cd8e-4aa0-88ae-949a85f5ccaa",
   "metadata": {},
   "outputs": [],
   "source": [
    "path=\"./beta50.000000at0.069197nt64L1ratio0.500000/\"\n",
    "files_ = sorted(glob.glob(path+\"plaq_ss_t_*.dat\"), key=len)\n",
    "files = np.array(files_)\n",
    "\n",
    "data_=[]\n",
    "for file in files:\n",
    "    data_.append( np.loadtxt( file ) )\n",
    "data = np.array( data_ )\n",
    "\n",
    "Nt=data.shape[1]\n",
    "\n",
    "jk = Jackknife( data.shape[0], binsize )\n",
    "jk.set( simple_mean, data )\n",
    "jk.do_it()\n",
    "\n",
    "res_list.append( [path, jk.mean(), jk.err()] )"
   ]
  },
  {
   "cell_type": "code",
   "execution_count": null,
   "id": "749fed41-1fd1-4e37-aeab-f5acbfed9215",
   "metadata": {},
   "outputs": [],
   "source": []
  },
  {
   "cell_type": "code",
   "execution_count": 7,
   "id": "dc881056-35f5-4a53-a5f8-b148b7a9d5eb",
   "metadata": {},
   "outputs": [],
   "source": [
    "path=\"./beta50.000000at0.138394nt64L1ratio1.000000/\"\n",
    "files_ = sorted(glob.glob(path+\"plaq_ss_t_*.dat\"), key=len)\n",
    "files = np.array(files_)\n",
    "\n",
    "data_=[]\n",
    "for file in files:\n",
    "    data_.append( np.loadtxt( file ) )\n",
    "data = np.array( data_ )\n",
    "\n",
    "Nt=data.shape[1]\n",
    "\n",
    "jk = Jackknife( data.shape[0], binsize )\n",
    "jk.set( simple_mean, data )\n",
    "jk.do_it()\n",
    "\n",
    "res_list.append( [path, jk.mean(), jk.err()] )"
   ]
  },
  {
   "cell_type": "code",
   "execution_count": null,
   "id": "484e2b64-3a88-4893-a779-7b061f756fa6",
   "metadata": {},
   "outputs": [],
   "source": []
  },
  {
   "cell_type": "code",
   "execution_count": null,
   "id": "3026f5ea-a852-4d67-8ee2-3a23605997ad",
   "metadata": {},
   "outputs": [],
   "source": []
  },
  {
   "cell_type": "code",
   "execution_count": 8,
   "id": "88309f70-6fa9-48c8-8ff1-bc3ae870af2d",
   "metadata": {},
   "outputs": [
    {
     "data": {
      "text/plain": [
       "[['./beta50.000000at0.036934nt64L2ratio0.500000/',\n",
       "  array([ 4.86771114e-01,  3.46946227e-01,  2.59896410e-01,  1.93707214e-01,\n",
       "          1.49153456e-01,  1.06965186e-01,  8.26697990e-02,  6.88964743e-02,\n",
       "          4.61758880e-02,  4.07739539e-02,  2.90276098e-02,  2.84291436e-02,\n",
       "          1.38954718e-02,  2.02936526e-02,  1.25545011e-02,  9.59291493e-03,\n",
       "          8.54096787e-03,  9.27254362e-03,  7.77013011e-03,  3.91412059e-04,\n",
       "          1.06816659e-02,  1.66386290e-03,  5.58491286e-03,  2.73019696e-04,\n",
       "          7.66901143e-03, -4.85800496e-04,  2.49726556e-03,  4.52491412e-03,\n",
       "          5.01066086e-05,  3.15297205e-03,  1.67948072e-04,  6.11768931e-03,\n",
       "         -3.49465162e-03,  6.11768931e-03,  1.67948072e-04,  3.15297205e-03,\n",
       "          5.01066086e-05,  4.52491412e-03,  2.49726556e-03, -4.85800496e-04,\n",
       "          7.66901143e-03,  2.73019696e-04,  5.58491286e-03,  1.66386290e-03,\n",
       "          1.06816659e-02,  3.91412059e-04,  7.77013011e-03,  9.27254362e-03,\n",
       "          8.54096787e-03,  9.59291493e-03,  1.25545011e-02,  2.02936526e-02,\n",
       "          1.38954718e-02,  2.84291436e-02,  2.90276098e-02,  4.07739539e-02,\n",
       "          4.61758880e-02,  6.88964743e-02,  8.26697990e-02,  1.06965186e-01,\n",
       "          1.49153456e-01,  1.93707214e-01,  2.59896410e-01,  3.46946227e-01]),\n",
       "  array([2.23552202e-04, 1.38561325e-04, 1.86283767e-04, 1.57435791e-04,\n",
       "         1.42495837e-04, 1.50326760e-04, 1.05128879e-04, 1.41615717e-04,\n",
       "         1.11559263e-04, 1.14491669e-04, 1.31504338e-04, 1.01241874e-04,\n",
       "         1.35933954e-04, 1.13967498e-04, 1.17145952e-04, 1.46272082e-04,\n",
       "         9.97275455e-05, 1.56563220e-04, 1.06510300e-04, 1.41966418e-04,\n",
       "         1.29218627e-04, 1.03946569e-04, 1.44475279e-04, 9.76779647e-05,\n",
       "         1.19893111e-04, 1.23730773e-04, 1.03593527e-04, 1.29569830e-04,\n",
       "         1.14367472e-04, 1.28335361e-04, 1.31669274e-04, 1.26202836e-04,\n",
       "         1.56155404e-04, 1.26202836e-04, 1.31669274e-04, 1.28335361e-04,\n",
       "         1.14367472e-04, 1.29569830e-04, 1.03593527e-04, 1.23730773e-04,\n",
       "         1.19893111e-04, 9.76779647e-05, 1.44475279e-04, 1.03946569e-04,\n",
       "         1.29218627e-04, 1.41966418e-04, 1.06510300e-04, 1.56563220e-04,\n",
       "         9.97275455e-05, 1.46272082e-04, 1.17145952e-04, 1.13967498e-04,\n",
       "         1.35933954e-04, 1.01241874e-04, 1.31504338e-04, 1.14491669e-04,\n",
       "         1.11559263e-04, 1.41615717e-04, 1.05128879e-04, 1.50326760e-04,\n",
       "         1.42495837e-04, 1.57435791e-04, 1.86283767e-04, 1.38561325e-04])],\n",
       " ['./beta50.000000at0.073868nt64L2ratio1.000000/',\n",
       "  array([ 4.66345446e-01,  2.53527964e-01,  1.42098959e-01,  8.04771239e-02,\n",
       "          4.59885832e-02,  3.01338233e-02,  1.91081725e-02,  1.55815644e-02,\n",
       "          1.22631459e-02,  6.66250827e-03,  4.98027738e-03,  4.68909131e-04,\n",
       "         -5.13816946e-04,  5.38014028e-04,  5.32347690e-04,  4.32487798e-03,\n",
       "          3.11053901e-03,  2.52025420e-03,  2.01505332e-03, -2.27886502e-03,\n",
       "         -2.07523385e-03, -2.67811567e-03,  7.57714552e-04,  3.24660459e-03,\n",
       "          2.60422279e-03,  1.84046838e-03,  4.90930154e-05, -2.01337217e-03,\n",
       "         -1.85389574e-03, -1.85855008e-03,  2.09158005e-04,  2.14315329e-03,\n",
       "          1.87032913e-03,  2.14315329e-03,  2.09158005e-04, -1.85855008e-03,\n",
       "         -1.85389574e-03, -2.01337217e-03,  4.90930154e-05,  1.84046838e-03,\n",
       "          2.60422279e-03,  3.24660459e-03,  7.57714552e-04, -2.67811567e-03,\n",
       "         -2.07523385e-03, -2.27886502e-03,  2.01505332e-03,  2.52025420e-03,\n",
       "          3.11053901e-03,  4.32487798e-03,  5.32347690e-04,  5.38014028e-04,\n",
       "         -5.13816946e-04,  4.68909131e-04,  4.98027738e-03,  6.66250827e-03,\n",
       "          1.22631459e-02,  1.55815644e-02,  1.91081725e-02,  3.01338233e-02,\n",
       "          4.59885832e-02,  8.04771239e-02,  1.42098959e-01,  2.53527964e-01]),\n",
       "  array([2.74940867e-04, 9.00034716e-05, 7.69452623e-05, 1.06196123e-04,\n",
       "         1.30742782e-04, 7.09199177e-05, 8.78735916e-05, 1.01722811e-04,\n",
       "         1.26342038e-04, 7.14733332e-05, 7.89123326e-05, 1.21969897e-04,\n",
       "         1.13213036e-04, 8.17783571e-05, 7.39892391e-05, 1.29960333e-04,\n",
       "         8.03351735e-05, 9.95638714e-05, 1.03559015e-04, 1.09721703e-04,\n",
       "         1.16703644e-04, 1.63186081e-04, 8.14643944e-05, 1.28515343e-04,\n",
       "         1.08909366e-04, 7.96073070e-05, 7.76685597e-05, 9.20383102e-05,\n",
       "         1.00961613e-04, 9.80716397e-05, 7.34517991e-05, 1.05076616e-04,\n",
       "         1.29635611e-04, 1.05076616e-04, 7.34517991e-05, 9.80716397e-05,\n",
       "         1.00961613e-04, 9.20383102e-05, 7.76685597e-05, 7.96073070e-05,\n",
       "         1.08909366e-04, 1.28515343e-04, 8.14643944e-05, 1.63186081e-04,\n",
       "         1.16703644e-04, 1.09721703e-04, 1.03559015e-04, 9.95638714e-05,\n",
       "         8.03351735e-05, 1.29960333e-04, 7.39892391e-05, 8.17783571e-05,\n",
       "         1.13213036e-04, 1.21969897e-04, 7.89123326e-05, 7.14733332e-05,\n",
       "         1.26342038e-04, 1.01722811e-04, 8.78735916e-05, 7.09199177e-05,\n",
       "         1.30742782e-04, 1.06196123e-04, 7.69452623e-05, 9.00034716e-05])],\n",
       " ['./beta50.000000at0.069197nt64L1ratio0.500000/',\n",
       "  array([0.05512305, 0.04192334, 0.03200163, 0.02455878, 0.0189905 ,\n",
       "         0.01479931, 0.01159463, 0.0090842 , 0.00712618, 0.0056227 ,\n",
       "         0.00446096, 0.00358483, 0.00290462, 0.00236559, 0.00192017,\n",
       "         0.00153561, 0.00122291, 0.00102704, 0.00090812, 0.00080403,\n",
       "         0.00068242, 0.00050109, 0.00036048, 0.0002921 , 0.00029023,\n",
       "         0.0002757 , 0.00024086, 0.00016728, 0.00011579, 0.00012706,\n",
       "         0.00014663, 0.00018765, 0.00019028, 0.00018765, 0.00014663,\n",
       "         0.00012706, 0.00011579, 0.00016728, 0.00024086, 0.0002757 ,\n",
       "         0.00029023, 0.0002921 , 0.00036048, 0.00050109, 0.00068242,\n",
       "         0.00080403, 0.00090812, 0.00102704, 0.00122291, 0.00153561,\n",
       "         0.00192017, 0.00236559, 0.00290462, 0.00358483, 0.00446096,\n",
       "         0.0056227 , 0.00712618, 0.0090842 , 0.01159463, 0.01479931,\n",
       "         0.0189905 , 0.02455878, 0.03200163, 0.04192334]),\n",
       "  array([2.03327206e-05, 1.90584344e-05, 1.79826640e-05, 1.71775424e-05,\n",
       "         1.62738526e-05, 1.54824659e-05, 1.53618311e-05, 1.46074151e-05,\n",
       "         1.42737878e-05, 1.41375550e-05, 1.44940126e-05, 1.39760386e-05,\n",
       "         1.40351207e-05, 1.40719968e-05, 1.40407962e-05, 1.39897986e-05,\n",
       "         1.45578968e-05, 1.40000034e-05, 1.39259338e-05, 1.42026786e-05,\n",
       "         1.43889188e-05, 1.41163778e-05, 1.47105333e-05, 1.43750597e-05,\n",
       "         1.44233188e-05, 1.47895071e-05, 1.52074743e-05, 1.51918867e-05,\n",
       "         1.62466314e-05, 1.68850817e-05, 1.78778915e-05, 1.88086458e-05,\n",
       "         1.95229108e-05, 1.88086458e-05, 1.78778915e-05, 1.68850817e-05,\n",
       "         1.62466314e-05, 1.51918867e-05, 1.52074743e-05, 1.47895071e-05,\n",
       "         1.44233188e-05, 1.43750597e-05, 1.47105333e-05, 1.41163778e-05,\n",
       "         1.43889188e-05, 1.42026786e-05, 1.39259338e-05, 1.40000034e-05,\n",
       "         1.45578968e-05, 1.39897986e-05, 1.40407962e-05, 1.40719968e-05,\n",
       "         1.40351207e-05, 1.39760386e-05, 1.44940126e-05, 1.41375550e-05,\n",
       "         1.42737878e-05, 1.46074151e-05, 1.53618311e-05, 1.54824659e-05,\n",
       "         1.62738526e-05, 1.71775424e-05, 1.79826640e-05, 1.90584344e-05])],\n",
       " ['./beta50.000000at0.138394nt64L1ratio1.000000/',\n",
       "  array([ 5.36222198e-02,  3.14437275e-02,  1.88032598e-02,  1.14511470e-02,\n",
       "          7.12023261e-03,  4.52372674e-03,  2.92865772e-03,  1.94270303e-03,\n",
       "          1.28785933e-03,  9.06989636e-04,  6.39291904e-04,  4.76991682e-04,\n",
       "          3.75875618e-04,  2.86838718e-04,  2.34549116e-04,  1.73578956e-04,\n",
       "          1.13939352e-04,  4.84805641e-05,  1.27606235e-05, -7.68627438e-06,\n",
       "         -4.47663142e-07, -1.03686429e-05,  7.27561220e-06,  3.43737659e-05,\n",
       "          2.23564406e-05,  2.46742985e-05, -1.38056102e-05, -2.08501835e-05,\n",
       "         -3.99275633e-05, -5.38382236e-05, -4.10409971e-05, -5.29623207e-05,\n",
       "         -3.49303478e-05, -5.29623207e-05, -4.10409971e-05, -5.38382236e-05,\n",
       "         -3.99275633e-05, -2.08501835e-05, -1.38056102e-05,  2.46742985e-05,\n",
       "          2.23564406e-05,  3.43737659e-05,  7.27561220e-06, -1.03686429e-05,\n",
       "         -4.47663142e-07, -7.68627438e-06,  1.27606235e-05,  4.84805641e-05,\n",
       "          1.13939352e-04,  1.73578956e-04,  2.34549116e-04,  2.86838718e-04,\n",
       "          3.75875618e-04,  4.76991682e-04,  6.39291904e-04,  9.06989636e-04,\n",
       "          1.28785933e-03,  1.94270303e-03,  2.92865772e-03,  4.52372674e-03,\n",
       "          7.12023261e-03,  1.14511470e-02,  1.88032598e-02,  3.14437275e-02]),\n",
       "  array([1.39842376e-05, 1.26732069e-05, 1.13897579e-05, 1.05767664e-05,\n",
       "         1.03952476e-05, 1.01226961e-05, 1.00398916e-05, 1.00058970e-05,\n",
       "         9.84189303e-06, 1.00170424e-05, 9.91016933e-06, 9.80215454e-06,\n",
       "         9.75094100e-06, 9.94091739e-06, 9.94419558e-06, 9.95613262e-06,\n",
       "         9.77245379e-06, 9.74217819e-06, 9.85526086e-06, 9.75025245e-06,\n",
       "         9.72879690e-06, 9.70237648e-06, 9.78482579e-06, 9.74637860e-06,\n",
       "         9.82755199e-06, 9.85792580e-06, 9.89721074e-06, 1.02079126e-05,\n",
       "         1.03303618e-05, 1.06087230e-05, 1.13314083e-05, 1.26877743e-05,\n",
       "         1.38576058e-05, 1.26877743e-05, 1.13314083e-05, 1.06087230e-05,\n",
       "         1.03303618e-05, 1.02079126e-05, 9.89721074e-06, 9.85792580e-06,\n",
       "         9.82755199e-06, 9.74637860e-06, 9.78482579e-06, 9.70237648e-06,\n",
       "         9.72879690e-06, 9.75025245e-06, 9.85526086e-06, 9.74217819e-06,\n",
       "         9.77245379e-06, 9.95613262e-06, 9.94419558e-06, 9.94091739e-06,\n",
       "         9.75094100e-06, 9.80215454e-06, 9.91016933e-06, 1.00170424e-05,\n",
       "         9.84189303e-06, 1.00058970e-05, 1.00398916e-05, 1.01226961e-05,\n",
       "         1.03952476e-05, 1.05767664e-05, 1.13897579e-05, 1.26732069e-05])]]"
      ]
     },
     "execution_count": 8,
     "metadata": {},
     "output_type": "execute_result"
    }
   ],
   "source": [
    "res_list"
   ]
  },
  {
   "cell_type": "code",
   "execution_count": null,
   "id": "23c06dad-c132-4547-8b2b-62ccc75a6bca",
   "metadata": {},
   "outputs": [],
   "source": []
  },
  {
   "cell_type": "code",
   "execution_count": 19,
   "id": "754abf96-ac1f-4fa7-a54a-fba3768036e2",
   "metadata": {},
   "outputs": [],
   "source": [
    "def f(t, nmax):\n",
    "    res = 0.0\n",
    "    for n in range(1,nmax):\n",
    "        res += np.sqrt( n*(n+1.0) ) * (2.0*n+1.0) * np.exp( -np.sqrt( n*(n+1.0) )*t )\n",
    "    return res/(8.0*np.pi)"
   ]
  },
  {
   "cell_type": "code",
   "execution_count": null,
   "id": "43366bf9-cc7a-4757-998c-87d56d28cecd",
   "metadata": {},
   "outputs": [],
   "source": []
  },
  {
   "cell_type": "code",
   "execution_count": 20,
   "id": "a6bed317-68e5-46b9-8533-a7a57c6f20df",
   "metadata": {},
   "outputs": [
    {
     "data": {
      "text/plain": [
       "64"
      ]
     },
     "execution_count": 20,
     "metadata": {},
     "output_type": "execute_result"
    }
   ],
   "source": [
    "Nt"
   ]
  },
  {
   "cell_type": "code",
   "execution_count": 30,
   "id": "b7ebfbef-c8c8-4ba7-a431-884549ba1938",
   "metadata": {},
   "outputs": [
    {
     "data": {
      "image/png": "[encoded data removed]",
      "text/plain": [
       "<Figure size 640x480 with 1 Axes>"
      ]
     },
     "metadata": {},
     "output_type": "display_data"
    }
   ],
   "source": [
    "plt.yscale(\"log\")\n",
    "\n",
    "for res in res_list:\n",
    "    Nt = res[1].shape[0]\n",
    "\n",
    "    at = float(res[0].split(\"at\")[1].split(\"nt\")[0])\n",
    "    xx=np.arange(int(Nt/2)) * at\n",
    "    # xx=np.arange(Nt)\n",
    "    yy=res[1][:int(Nt/2)]\n",
    "    dy=res[2][:int(Nt/2)]\n",
    "\n",
    "    plt.errorbar( xx, yy, dy, capsize=5, label=res[0] )\n",
    "\n",
    "# xx=np.arange(Nt)\n",
    "# yy= 0.07*np.exp( -np.sqrt(2.0) * xx / 8.0 )\n",
    "# plt.plot( xx, yy )\n",
    "\n",
    "xx=np.linspace(0, 4.0, 200)\n",
    "# yy= 0.02*np.exp( -np.sqrt(2.0) * xx * 2.4 )\n",
    "yy= 0.013*f(xx, 10)\n",
    "plt.plot( xx, yy, ls=\"dashed\", label=\"analytic\" )\n",
    "\n",
    "plt.legend()\n",
    "plt.ylim( 1.0e-5, 1.0e0 )\n",
    "plt.xlabel(\"$t$\")\n",
    "plt.ylabel(\"$\\\\langle \\\\Phi(z=1,t=0) \\\\Phi(z=1,t) \\\\rangle$\")\n",
    "\n",
    "plt.savefig(\"gaugecorr.pdf\")"
   ]
  },
  {
   "cell_type": "code",
   "execution_count": 9,
   "id": "f99b48f6-300b-49d1-8c36-eb5c943c26aa",
   "metadata": {},
   "outputs": [
    {
     "data": {
      "text/plain": [
       "6.25"
      ]
     },
     "execution_count": 9,
     "metadata": {},
     "output_type": "execute_result"
    }
   ],
   "source": [
    "50.0/8.0"
   ]
  },
  {
   "cell_type": "code",
   "execution_count": null,
   "id": "b565f895-8420-4535-a18f-782e112f847d",
   "metadata": {},
   "outputs": [],
   "source": []
  }
 ],
 "metadata": {
  "kernelspec": {
   "display_name": "Python 3 (ipykernel)",
   "language": "python",
   "name": "python3"
  },
  "language_info": {
   "codemirror_mode": {
    "name": "ipython",
    "version": 3
   },
   "file_extension": ".py",
   "mimetype": "text/x-python",
   "name": "python",
   "nbconvert_exporter": "python",
   "pygments_lexer": "ipython3",
   "version": "3.12.2"
  }
 },
 "nbformat": 4,
 "nbformat_minor": 5
}
