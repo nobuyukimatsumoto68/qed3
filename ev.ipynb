{
 "cells": [
  {
   "cell_type": "code",
   "execution_count": 1,
   "id": "7bfb5fe0-2fe7-4ae6-bcdd-d315f28552f3",
   "metadata": {},
   "outputs": [],
   "source": [
    "import numpy as np\n",
    "import matplotlib.pyplot as plt"
   ]
  },
  {
   "cell_type": "code",
   "execution_count": 2,
   "id": "cadfa993-364a-4bf4-a374-a8e3d77e5a76",
   "metadata": {},
   "outputs": [],
   "source": [
    "n_refine=2"
   ]
  },
  {
   "cell_type": "code",
   "execution_count": 3,
   "id": "56dfb070-484a-41e4-9715-c15b929e9bcd",
   "metadata": {},
   "outputs": [],
   "source": [
    "ev = np.loadtxt( \"ev_n\"+str(n_refine)+\".dat\" )\n",
    "# ev2 = np.loadtxt( \"ev.dat\" )"
   ]
  },
  {
   "cell_type": "code",
   "execution_count": 4,
   "id": "f777fd24-1538-4b03-a264-ccae6048dd6e",
   "metadata": {},
   "outputs": [
    {
     "data": {
      "text/plain": [
       "(84, 2)"
      ]
     },
     "execution_count": 4,
     "metadata": {},
     "output_type": "execute_result"
    }
   ],
   "source": [
    "ev.shape"
   ]
  },
  {
   "cell_type": "code",
   "execution_count": 5,
   "id": "6b30ce97-d48e-4f68-8aa8-1b269a791882",
   "metadata": {},
   "outputs": [],
   "source": [
    "# ev = np.sort( ev, axis=0 )\n",
    "# ev2 = np.sort( ev2, axis=0 )"
   ]
  },
  {
   "cell_type": "code",
   "execution_count": 6,
   "id": "4776a3e3-46be-41d3-9a43-a77953e1b53b",
   "metadata": {},
   "outputs": [
    {
     "data": {
      "image/png": "[encoded data removed]",
      "text/plain": [
       "<Figure size 640x480 with 1 Axes>"
      ]
     },
     "metadata": {},
     "output_type": "display_data"
    }
   ],
   "source": [
    "# plt.scatter( ev2.T[0], ev2.T[1] )\n",
    "plt.scatter( ev.T[0], ev.T[1] )\n",
    "\n",
    "plt.xlim(0.0, 3.5)\n",
    "plt.ylim(-3*np.pi/5, 3*np.pi/5)\n",
    "\n",
    "plt.axis('equal')\n",
    "\n",
    "plt.xlabel(\"$\\\\lambda_R$\")\n",
    "plt.ylabel(\"$\\\\lambda_I$\")\n",
    "\n",
    "plt.savefig(\"ev_scatter\"+str(n_refine)+\".pdf\")"
   ]
  },
  {
   "cell_type": "code",
   "execution_count": 7,
   "id": "6ab63e62-ed48-4e89-be7a-739f37fa7f82",
   "metadata": {},
   "outputs": [],
   "source": [
    "yy = ev.T[1]"
   ]
  },
  {
   "cell_type": "code",
   "execution_count": 8,
   "id": "a429b7b0-6495-4253-8f52-ba6b560f8188",
   "metadata": {},
   "outputs": [],
   "source": [
    "xx = np.arange(yy.shape[0])"
   ]
  },
  {
   "cell_type": "code",
   "execution_count": 9,
   "id": "28c1ac3c-cd06-4632-880c-9d29500a9437",
   "metadata": {},
   "outputs": [],
   "source": [
    "# plt.scatter(xx, yy)\n",
    "# plt.xlabel(\"$k$\")\n",
    "# plt.ylabel(\"$\\\\lambda_I^{(k)}$\")\n",
    "# # plt.axis('equal')\n",
    "\n",
    "# plt.savefig(\"ev_hierarchy.pdf\")"
   ]
  },
  {
   "cell_type": "code",
   "execution_count": null,
   "id": "27f8e69d-1c97-4997-91a2-746268b2ea95",
   "metadata": {},
   "outputs": [],
   "source": []
  },
  {
   "cell_type": "code",
   "execution_count": null,
   "id": "f65a4592-12f8-4973-a2d3-563e12b4f50d",
   "metadata": {},
   "outputs": [],
   "source": []
  },
  {
   "cell_type": "code",
   "execution_count": null,
   "id": "05343d39-8cb6-47aa-b107-7f2f6df3d66c",
   "metadata": {},
   "outputs": [],
   "source": []
  },
  {
   "cell_type": "code",
   "execution_count": null,
   "id": "24b6369b-0ac1-4dcc-9210-323da1080ef2",
   "metadata": {},
   "outputs": [],
   "source": []
  },
  {
   "cell_type": "code",
   "execution_count": null,
   "id": "f7bc84f0-91be-4af8-988f-7aed28c805e7",
   "metadata": {},
   "outputs": [],
   "source": []
  }
 ],
 "metadata": {
  "kernelspec": {
   "display_name": "Python 3 (ipykernel)",
   "language": "python",
   "name": "python3"
  },
  "language_info": {
   "codemirror_mode": {
    "name": "ipython",
    "version": 3
   },
   "file_extension": ".py",
   "mimetype": "text/x-python",
   "name": "python",
   "nbconvert_exporter": "python",
   "pygments_lexer": "ipython3",
   "version": "3.11.7"
  }
 },
 "nbformat": 4,
 "nbformat_minor": 5
}
